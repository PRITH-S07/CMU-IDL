{
  "cells": [
    {
      "cell_type": "markdown",
      "source": [
        "# Baseline for CLIP AI Detection Adversarial Attack"
      ],
      "metadata": {
        "id": "zJENsdUGGHcM"
      }
    },
    {
      "cell_type": "markdown",
      "source": [
        "## Setup"
      ],
      "metadata": {
        "id": "cwbcNfoEGUT6"
      }
    },
    {
      "cell_type": "code",
      "execution_count": 74,
      "metadata": {
        "colab": {
          "base_uri": "https://localhost:8080/"
        },
        "id": "K7SwWf4G4ebZ",
        "outputId": "447b721c-fce9-47e8-d667-1365651879e6"
      },
      "outputs": [
        {
          "output_type": "stream",
          "name": "stdout",
          "text": [
            "Drive already mounted at /content/drive; to attempt to forcibly remount, call drive.mount(\"/content/drive\", force_remount=True).\n"
          ]
        }
      ],
      "source": [
        "from google.colab import drive\n",
        "drive.mount('/content/drive')"
      ]
    },
    {
      "cell_type": "code",
      "execution_count": 75,
      "metadata": {
        "colab": {
          "base_uri": "https://localhost:8080/"
        },
        "id": "kQq3Ey574gja",
        "outputId": "97c8e4e3-e5b9-4435-8b6f-fed95fa37462"
      },
      "outputs": [
        {
          "output_type": "stream",
          "name": "stdout",
          "text": [
            "/content/drive/.shortcut-targets-by-id/1SUnyLWY7LvpxPNxyFvip9Ae4S39ePRqJ/IDL Image Generation\n"
          ]
        }
      ],
      "source": [
        "%cd '/content/drive/MyDrive/IDL Image Generation'"
      ]
    },
    {
      "cell_type": "code",
      "execution_count": 59,
      "metadata": {
        "colab": {
          "base_uri": "https://localhost:8080/"
        },
        "collapsed": true,
        "id": "AziwBTP48KWo",
        "outputId": "f2b9660a-57d4-4fd6-c74f-9ef7371cd8f4"
      },
      "outputs": [
        {
          "output_type": "stream",
          "name": "stdout",
          "text": [
            "\u001b[31mERROR: Operation cancelled by user\u001b[0m\u001b[31m\n",
            "\u001b[0m"
          ]
        }
      ],
      "source": [
        "!pip install transformers torch --quiet\n",
        "!pip install torchattacks --quiet"
      ]
    },
    {
      "cell_type": "code",
      "execution_count": 107,
      "metadata": {
        "id": "zMkDJ-xI4iJj"
      },
      "outputs": [],
      "source": [
        "import os\n",
        "import ast\n",
        "import csv\n",
        "\n",
        "import numpy as np\n",
        "import pandas as pd\n",
        "\n",
        "from PIL import Image\n",
        "\n",
        "import torch\n",
        "from transformers import CLIPProcessor, CLIPModel\n",
        "\n",
        "from sklearn.svm import SVC\n",
        "from sklearn.model_selection import train_test_split\n",
        "from sklearn.metrics import accuracy_score, precision_score, recall_score, f1_score, roc_auc_score, average_precision_score\n",
        "\n",
        "from torchattacks import PGD\n",
        "import torchvision\n",
        "\n",
        "from tqdm import tqdm\n"
      ]
    },
    {
      "cell_type": "code",
      "execution_count": 108,
      "metadata": {
        "id": "FJk4lpvt3PX6"
      },
      "outputs": [],
      "source": [
        "DIFFUSION_MODELS = [\"openjourney\", \"titan\", \"dalle\", \"real\", \"openjourney_v4\", \"stable_diff\"]\n",
        "ROOT = '/content/drive/MyDrive/IDL Image Generation'"
      ]
    },
    {
      "cell_type": "markdown",
      "source": [
        "## Process Images with CLIP"
      ],
      "metadata": {
        "id": "89x0uZAPGb_w"
      }
    },
    {
      "cell_type": "code",
      "source": [
        "!ls data"
      ],
      "metadata": {
        "id": "9V2rCeXs3pEm",
        "outputId": "5871363b-9bb5-42e7-a6cb-2c914850537f",
        "colab": {
          "base_uri": "https://localhost:8080/"
        }
      },
      "execution_count": 109,
      "outputs": [
        {
          "output_type": "stream",
          "name": "stdout",
          "text": [
            "adversarial_images  openjourney     real\t titan\n",
            "dalle\t\t    openjourney_v4  stable_diff\n"
          ]
        }
      ]
    },
    {
      "cell_type": "code",
      "execution_count": 110,
      "metadata": {
        "id": "gV80yynV3KUq"
      },
      "outputs": [],
      "source": [
        "def collect_images(generators):\n",
        "  generated_images = {}\n",
        "  for directory in generators:\n",
        "    print(directory, len(os.listdir(os.path.join(ROOT, \"data\", directory))))\n",
        "    for filepath in os.listdir(os.path.join(ROOT, \"data\", directory)):\n",
        "        full_path = os.path.join(ROOT, \"data\", directory, filepath)\n",
        "        id_idx = filepath.rfind('_') + 1\n",
        "        id = filepath[id_idx:-4]\n",
        "        label = 1 if directory == \"real\" else 0\n",
        "        generated_images[full_path] = {\n",
        "            \"generator\": directory,\n",
        "            \"label\": label, # 0 = fake, 1 = real\n",
        "            \"id\": id,\n",
        "        }\n",
        "  return generated_images\n"
      ]
    },
    {
      "cell_type": "code",
      "execution_count": 111,
      "metadata": {
        "collapsed": true,
        "id": "VeJb_dwf4ZBY",
        "outputId": "85ac6d3a-d265-4f25-ad5a-1b490c1db92d",
        "colab": {
          "base_uri": "https://localhost:8080/"
        }
      },
      "outputs": [
        {
          "output_type": "stream",
          "name": "stdout",
          "text": [
            "openjourney 3377\n",
            "titan 2058\n",
            "dalle 435\n",
            "real 3633\n",
            "openjourney_v4 3465\n",
            "stable_diff 3346\n"
          ]
        }
      ],
      "source": [
        "images = collect_images(DIFFUSION_MODELS)"
      ]
    },
    {
      "cell_type": "code",
      "execution_count": 65,
      "metadata": {
        "colab": {
          "base_uri": "https://localhost:8080/"
        },
        "id": "0fkDSUmX6yQC",
        "outputId": "614cdf45-0c96-44b2-afd9-f9c0660f6c7f",
        "collapsed": true
      },
      "outputs": [
        {
          "output_type": "stream",
          "name": "stdout",
          "text": [
            "cuda\n"
          ]
        },
        {
          "output_type": "execute_result",
          "data": {
            "text/plain": [
              "CLIPModel(\n",
              "  (text_model): CLIPTextTransformer(\n",
              "    (embeddings): CLIPTextEmbeddings(\n",
              "      (token_embedding): Embedding(49408, 512)\n",
              "      (position_embedding): Embedding(77, 512)\n",
              "    )\n",
              "    (encoder): CLIPEncoder(\n",
              "      (layers): ModuleList(\n",
              "        (0-11): 12 x CLIPEncoderLayer(\n",
              "          (self_attn): CLIPSdpaAttention(\n",
              "            (k_proj): Linear(in_features=512, out_features=512, bias=True)\n",
              "            (v_proj): Linear(in_features=512, out_features=512, bias=True)\n",
              "            (q_proj): Linear(in_features=512, out_features=512, bias=True)\n",
              "            (out_proj): Linear(in_features=512, out_features=512, bias=True)\n",
              "          )\n",
              "          (layer_norm1): LayerNorm((512,), eps=1e-05, elementwise_affine=True)\n",
              "          (mlp): CLIPMLP(\n",
              "            (activation_fn): QuickGELUActivation()\n",
              "            (fc1): Linear(in_features=512, out_features=2048, bias=True)\n",
              "            (fc2): Linear(in_features=2048, out_features=512, bias=True)\n",
              "          )\n",
              "          (layer_norm2): LayerNorm((512,), eps=1e-05, elementwise_affine=True)\n",
              "        )\n",
              "      )\n",
              "    )\n",
              "    (final_layer_norm): LayerNorm((512,), eps=1e-05, elementwise_affine=True)\n",
              "  )\n",
              "  (vision_model): CLIPVisionTransformer(\n",
              "    (embeddings): CLIPVisionEmbeddings(\n",
              "      (patch_embedding): Conv2d(3, 768, kernel_size=(32, 32), stride=(32, 32), bias=False)\n",
              "      (position_embedding): Embedding(50, 768)\n",
              "    )\n",
              "    (pre_layrnorm): LayerNorm((768,), eps=1e-05, elementwise_affine=True)\n",
              "    (encoder): CLIPEncoder(\n",
              "      (layers): ModuleList(\n",
              "        (0-11): 12 x CLIPEncoderLayer(\n",
              "          (self_attn): CLIPSdpaAttention(\n",
              "            (k_proj): Linear(in_features=768, out_features=768, bias=True)\n",
              "            (v_proj): Linear(in_features=768, out_features=768, bias=True)\n",
              "            (q_proj): Linear(in_features=768, out_features=768, bias=True)\n",
              "            (out_proj): Linear(in_features=768, out_features=768, bias=True)\n",
              "          )\n",
              "          (layer_norm1): LayerNorm((768,), eps=1e-05, elementwise_affine=True)\n",
              "          (mlp): CLIPMLP(\n",
              "            (activation_fn): QuickGELUActivation()\n",
              "            (fc1): Linear(in_features=768, out_features=3072, bias=True)\n",
              "            (fc2): Linear(in_features=3072, out_features=768, bias=True)\n",
              "          )\n",
              "          (layer_norm2): LayerNorm((768,), eps=1e-05, elementwise_affine=True)\n",
              "        )\n",
              "      )\n",
              "    )\n",
              "    (post_layernorm): LayerNorm((768,), eps=1e-05, elementwise_affine=True)\n",
              "  )\n",
              "  (visual_projection): Linear(in_features=768, out_features=512, bias=False)\n",
              "  (text_projection): Linear(in_features=512, out_features=512, bias=False)\n",
              ")"
            ]
          },
          "metadata": {},
          "execution_count": 65
        }
      ],
      "source": [
        "print(\"cuda\" if torch.cuda.is_available() else \"cpu\")\n",
        "device = torch.device(\"cuda\" if torch.cuda.is_available() else \"cpu\")\n",
        "\n",
        "model = CLIPModel.from_pretrained(\"openai/clip-vit-base-patch32\")\n",
        "processor = CLIPProcessor.from_pretrained(\"openai/clip-vit-base-patch32\")\n",
        "\n",
        "model.to(device)"
      ]
    },
    {
      "cell_type": "code",
      "execution_count": 84,
      "metadata": {
        "id": "7lTfd42V60Iv"
      },
      "outputs": [],
      "source": [
        "def run_clip(image_path):\n",
        "  with Image.open(image_path) as img:\n",
        "    img = img.convert(\"RGB\")\n",
        "    if img.size != (512, 512):\n",
        "      print(f\"Resizing {image_path} to 512x512\")\n",
        "      img = img.resize((512, 512))\n",
        "      img.save(image_path)\n",
        "  # inputs = processor(images=img, return_tensors=\"pt\", padding=True, truncation=True)\n",
        "  inputs = processor(images=img, return_tensors=\"pt\")\n",
        "  inputs = inputs.to(device)\n",
        "  with torch.no_grad():\n",
        "    # image_features = model.get_image_features(**inputs)\n",
        "    outputs = model.vision_model(inputs.pixel_values)\n",
        "    image_features = outputs.last_hidden_state[:, 0, :]\n",
        "    image_features = image_features / image_features.norm(dim=-1, keepdim=True)\n",
        "    return image_features.squeeze().cpu().numpy()"
      ]
    },
    {
      "cell_type": "code",
      "execution_count": 100,
      "metadata": {
        "id": "CyXYhHNvdniX"
      },
      "outputs": [],
      "source": [
        "def get_processed_filepaths(csv_path: str):\n",
        "    processed_filepaths = set()\n",
        "    if not os.path.isfile(csv_path):\n",
        "        return set()\n",
        "    try:\n",
        "        df = pd.read_csv(csv_path)\n",
        "        df = df[df[\"Generator\"].isin(DIFFUSION_MODELS)]\n",
        "        df = df.drop_duplicates(subset=[\"Generator\", \"Id\"])\n",
        "        processed_filepaths = set(df[\"Filepath\"].values)\n",
        "    except Exception as e:\n",
        "        print(e)\n",
        "\n",
        "    return processed_filepaths"
      ]
    },
    {
      "cell_type": "code",
      "execution_count": 113,
      "metadata": {
        "id": "mtO0L5VdWaG0"
      },
      "outputs": [],
      "source": [
        "def process_images_and_log(image_dict: dict, csv_fname: str) -> None:\n",
        "    processed_filepaths = get_processed_filepaths(os.path.join(ROOT, csv_fname))\n",
        "    print(f\"{len(processed_filepaths)} files have already been processed\")\n",
        "    for path, info in tqdm(image_dict.items(), desc=\"Embedding Images\"):\n",
        "      if path in processed_filepaths and not (path.endswith(\".png\") or path.endswith(\".jpg\")):\n",
        "        # print(f\"{info['generator']}_{info['id']} has already been processed\")\n",
        "        continue\n",
        "\n",
        "      encoding = run_clip(path)\n",
        "\n",
        "      data = [path, info[\"id\"], info[\"generator\"], str(encoding), info[\"label\"]]\n",
        "\n",
        "      csv_path = os.path.join(ROOT, csv_fname)\n",
        "      file_exists = os.path.isfile(csv_path)\n",
        "      with open(csv_path, 'a', newline='') as csvfile:\n",
        "        writer = csv.writer(csvfile)\n",
        "        if not file_exists:\n",
        "            writer.writerow([\"Filepath\", \"Id\", \"Generator\", \"Features\", \"Label\"])\n",
        "        writer.writerow(data)\n",
        "      # print(f\"{info['generator']}_{info['id']} encoded and logged to csv\")\n",
        "    print(f\"All input images encoded!\")"
      ]
    },
    {
      "cell_type": "code",
      "execution_count": null,
      "metadata": {
        "colab": {
          "base_uri": "https://localhost:8080/"
        },
        "collapsed": true,
        "id": "i2P7Gy2fZ_Hn",
        "outputId": "2e728ceb-7432-4bff-8f70-c044fad0ae56"
      },
      "outputs": [
        {
          "output_type": "stream",
          "name": "stdout",
          "text": [
            "Generator\n",
            "openjourney    249\n",
            "Name: count, dtype: int64\n",
            "249\n",
            "249 files have already been processed\n"
          ]
        },
        {
          "output_type": "stream",
          "name": "stderr",
          "text": [
            "Embedding Images:  21%|██▏       | 3477/16314 [03:39<3:25:58,  1.04it/s]"
          ]
        }
      ],
      "source": [
        "process_images_and_log(images, \"CLIP_embeddings.csv\")"
      ]
    },
    {
      "cell_type": "markdown",
      "source": [
        "## Train SVM for AI Image Detection"
      ],
      "metadata": {
        "id": "veHjUmu6GfZ5"
      }
    },
    {
      "cell_type": "code",
      "source": [
        "class CLIPSVMDiscriminator:\n",
        "    def __init__(self, model_name=\"openai/clip-vit-base-patch32\", device=None):\n",
        "        self.device = device if device is not None else torch.device(\"cuda\" if torch.cuda.is_available() else \"cpu\")\n",
        "        print(\"Running on:\", self.device)\n",
        "        self.model = CLIPModel.from_pretrained(model_name)\n",
        "        self.processor = CLIPProcessor.from_pretrained(model_name)\n",
        "        self.model.to(self.device)\n",
        "        self.model.eval()\n",
        "        self.svm = SVC(kernel=\"linear\", C=1.0, probability=True)\n",
        "        self.svm_trained = False\n",
        "\n",
        "    def run_clip(self, image_path):\n",
        "        inputs = self.processor(images=img, return_tensors=\"pt\").to(self.device)\n",
        "        with torch.no_grad():\n",
        "            outputs = self.model.vision_model(inputs.pixel_values)\n",
        "            image_features = outputs.last_hidden_state[:, 0, :]\n",
        "            image_features = image_features / image_features.norm(dim=-1, keepdim=True)\n",
        "            return image_features.squeeze().cpu().numpy()\n",
        "\n",
        "    def train_svm(self, X_train, y_train):\n",
        "        self.svm.fit(X_train, y_train)\n",
        "        self.svm_trained = True\n",
        "        train_accuracy = self.svm.score(X_train, y_train)\n",
        "        print(f\"Training accuracy for discriminator: {train_accuracy:.4f}\")\n",
        "        return self.svm\n",
        "\n",
        "    def predict_from_embeddings(self, embeddings):\n",
        "        preds = self.svm.predict(embeddings)\n",
        "        probs = self.svm.predict_proba(embeddings)[:, 1]\n",
        "        return preds, probs\n",
        "\n",
        "    def evaluate(self, X_test, y_test):\n",
        "        model = self.svm\n",
        "        y_pred = model.predict(X_test)\n",
        "        y_pred_proba = model.predict_proba(X_test)[:, 1]\n",
        "        accuracy = accuracy_score(y_test, y_pred)\n",
        "        precision = precision_score(y_test, y_pred, average='weighted')\n",
        "        recall = recall_score(y_test, y_pred, average='weighted')\n",
        "        f1 = f1_score(y_test, y_pred, average='weighted')\n",
        "        auc = roc_auc_score(y_test, y_pred_proba)\n",
        "        ap_per_class = []\n",
        "        for class_label in np.unique(y_test):\n",
        "            y_test_binary = (y_test == class_label).astype(int)\n",
        "            ap = average_precision_score(y_test_binary, y_pred_proba)\n",
        "            ap_per_class.append(ap)\n",
        "        map_score = np.mean(ap_per_class)\n",
        "        print(f\"Accuracy: {accuracy:.4f}\")\n",
        "        print(f\"Precision: {precision:.4f}\")\n",
        "        print(f\"Recall: {recall:.4f}\")\n",
        "        print(f\"F1 Score: {f1:.4f}\")\n",
        "        print(f\"AUC: {auc:.4f}\")\n",
        "        print(f\"mAP: {map_score:.4f}\")\n",
        "        return {\n",
        "            \"accuracy\": accuracy,\n",
        "            \"precision\": precision,\n",
        "            \"recall\": recall,\n",
        "            \"f1\": f1,\n",
        "            \"auc\": auc,\n",
        "            \"map\": map_score\n",
        "        }"
      ],
      "metadata": {
        "id": "A58hsAQWHKMI"
      },
      "execution_count": 13,
      "outputs": []
    },
    {
      "cell_type": "code",
      "execution_count": 16,
      "metadata": {
        "collapsed": true,
        "id": "dIqB_Cu49nH4"
      },
      "outputs": [],
      "source": [
        "def string_to_np(feature_str):\n",
        "    embedding_list = np.fromstring(feature_str[1:-1], sep=' ')\n",
        "    assert len(embedding_list) == 768\n",
        "    return np.array(embedding_list)\n",
        "\n",
        "\n",
        "df = pd.read_csv(os.path.join(ROOT, \"CLIP_embeddings.csv\"), usecols=range(5))\n",
        "# Filter df for rows where Generator is in DIFFUSION MODELS\n",
        "df = df[df[\"Generator\"].isin(DIFFUSION_MODELS)]\n",
        "df[\"Features\"] = df[\"Features\"].apply(string_to_np).to_numpy()\n",
        "X = np.stack(df[\"Features\"])\n",
        "y = df[\"Label\"].to_numpy()\n",
        "\n",
        "df[\"Generator\"].value_counts()"
      ]
    },
    {
      "cell_type": "code",
      "source": [
        "# Split the data into training and testing sets\n",
        "X_train, X_test, y_train, y_test = train_test_split(X, y, test_size=0.20, random_state=42)"
      ],
      "metadata": {
        "id": "AX_xRmfqGSvd",
        "outputId": "e1aa2cd8-b68b-4853-f5d9-4475859db3f9",
        "colab": {
          "base_uri": "https://localhost:8080/",
          "height": 335
        }
      },
      "execution_count": 93,
      "outputs": [
        {
          "output_type": "execute_result",
          "data": {
            "text/plain": [
              "Generator\n",
              "stablediff        6810\n",
              "openjourney       6754\n",
              "real              3633\n",
              "openjourney_v4    3465\n",
              "titan             2084\n",
              "stable_diff        999\n",
              "dalle              435\n",
              "Name: count, dtype: int64"
            ],
            "text/html": [
              "<div>\n",
              "<style scoped>\n",
              "    .dataframe tbody tr th:only-of-type {\n",
              "        vertical-align: middle;\n",
              "    }\n",
              "\n",
              "    .dataframe tbody tr th {\n",
              "        vertical-align: top;\n",
              "    }\n",
              "\n",
              "    .dataframe thead th {\n",
              "        text-align: right;\n",
              "    }\n",
              "</style>\n",
              "<table border=\"1\" class=\"dataframe\">\n",
              "  <thead>\n",
              "    <tr style=\"text-align: right;\">\n",
              "      <th></th>\n",
              "      <th>count</th>\n",
              "    </tr>\n",
              "    <tr>\n",
              "      <th>Generator</th>\n",
              "      <th></th>\n",
              "    </tr>\n",
              "  </thead>\n",
              "  <tbody>\n",
              "    <tr>\n",
              "      <th>stablediff</th>\n",
              "      <td>6810</td>\n",
              "    </tr>\n",
              "    <tr>\n",
              "      <th>openjourney</th>\n",
              "      <td>6754</td>\n",
              "    </tr>\n",
              "    <tr>\n",
              "      <th>real</th>\n",
              "      <td>3633</td>\n",
              "    </tr>\n",
              "    <tr>\n",
              "      <th>openjourney_v4</th>\n",
              "      <td>3465</td>\n",
              "    </tr>\n",
              "    <tr>\n",
              "      <th>titan</th>\n",
              "      <td>2084</td>\n",
              "    </tr>\n",
              "    <tr>\n",
              "      <th>stable_diff</th>\n",
              "      <td>999</td>\n",
              "    </tr>\n",
              "    <tr>\n",
              "      <th>dalle</th>\n",
              "      <td>435</td>\n",
              "    </tr>\n",
              "  </tbody>\n",
              "</table>\n",
              "</div><br><label><b>dtype:</b> int64</label>"
            ]
          },
          "metadata": {},
          "execution_count": 93
        }
      ]
    },
    {
      "cell_type": "code",
      "execution_count": 17,
      "metadata": {
        "colab": {
          "base_uri": "https://localhost:8080/"
        },
        "id": "wsDsi5yHJhCg",
        "outputId": "28483d30-da5f-43e9-d3d5-8b78bd67f5ef"
      },
      "outputs": [
        {
          "output_type": "stream",
          "name": "stdout",
          "text": [
            "(16312, 768) (16312,)\n"
          ]
        }
      ],
      "source": [
        "print(X.shape, y.shape)"
      ]
    },
    {
      "cell_type": "code",
      "execution_count": 21,
      "metadata": {
        "colab": {
          "base_uri": "https://localhost:8080/"
        },
        "id": "rEJb3ouW92sT",
        "outputId": "149dbba4-24f0-43c1-d896-513053c71425"
      },
      "outputs": [
        {
          "output_type": "stream",
          "name": "stdout",
          "text": [
            "Running on: cuda\n",
            "Training accuracy for discriminator: 0.9981\n",
            "Testing Metrics:\n",
            "Accuracy: 0.9975\n",
            "Precision: 0.9975\n",
            "Recall: 0.9975\n",
            "F1 Score: 0.9975\n",
            "AUC: 0.9998\n",
            "mAP: 0.7850\n"
          ]
        }
      ],
      "source": [
        "model = CLIPSVMDiscriminator()\n",
        "\n",
        "\n",
        "model.train_svm(X_train, y_train)\n",
        "print(\"Testing Metrics:\")\n",
        "metrics = model.evaluate(X_test, y_test)"
      ]
    },
    {
      "cell_type": "markdown",
      "source": [
        "## Evaluate method on Unseen Generators"
      ],
      "metadata": {
        "id": "N6h1evhBGlfE"
      }
    },
    {
      "cell_type": "code",
      "execution_count": null,
      "metadata": {
        "colab": {
          "base_uri": "https://localhost:8080/"
        },
        "id": "Rqm9mk25BnBA",
        "outputId": "60f66d43-4efe-46b6-be56-de28dc71db41"
      },
      "outputs": [
        {
          "name": "stdout",
          "output_type": "stream",
          "text": [
            "Results for no-openjourney_v4 model\n",
            "Training accuracy: 0.9978\n",
            "Results on openjourney_v4:\n",
            "Accuracy: 0.9968\n",
            "Precision: 1.0000\n",
            "Recall: 0.9968\n",
            "F1 Score: 0.9984\n",
            "AUC: nan\n",
            "mAP: 1.0000\n",
            "******************************************\n"
          ]
        },
        {
          "name": "stderr",
          "output_type": "stream",
          "text": [
            "/usr/local/lib/python3.11/dist-packages/sklearn/metrics/_classification.py:1565: UndefinedMetricWarning: Recall is ill-defined and being set to 0.0 in labels with no true samples. Use `zero_division` parameter to control this behavior.\n",
            "  _warn_prf(average, modifier, f\"{metric.capitalize()} is\", len(result))\n",
            "/usr/local/lib/python3.11/dist-packages/sklearn/metrics/_ranking.py:379: UndefinedMetricWarning: Only one class is present in y_true. ROC AUC score is not defined in that case.\n",
            "  warnings.warn(\n"
          ]
        }
      ],
      "source": [
        "for generator in [\"openjourney\", \"titan\", \"dalle\", \"openjourney_v4\"]:\n",
        "  if generator == \"real\":\n",
        "    continue\n",
        "\n",
        "  test_df = df[df['Generator'] == generator]\n",
        "  train_df = df[df['Generator'] != generator]\n",
        "\n",
        "  # Reset the index for both partitions\n",
        "  test_df = test_df.reset_index(drop=True)\n",
        "  train_df = train_df.reset_index(drop=True)\n",
        "\n",
        "  X_test = np.stack(test_df[\"Features\"].apply(string_to_np).to_numpy())\n",
        "  y_test = test_df[\"Label\"].to_numpy()\n",
        "\n",
        "  X_train = np.stack(train_df[\"Features\"].apply(string_to_np).to_numpy())\n",
        "  y_train = train_df[\"Label\"].to_numpy()\n",
        "\n",
        "  print(f\"Results for no-{generator} model\")\n",
        "  svm = train(X_train, y_train)\n",
        "  print(f\"Results on {generator}:\")\n",
        "  metrics = evaluate(svm, X_test, y_test)\n",
        "  print(\"******************************************\")\n",
        "\n"
      ]
    },
    {
      "cell_type": "markdown",
      "source": [
        "## Prepare PGD Attack on Method"
      ],
      "metadata": {
        "id": "sERPstaYGzR5"
      }
    },
    {
      "cell_type": "code",
      "source": [
        "from torchattacks import PGD\n",
        "\n",
        "class CLIPPGDAttack(PGD):\n",
        "    def __init__(self, model, eps=8/255, alpha=2/255, steps=10, random_start=True):\n",
        "        super().__init__(model, eps, alpha, steps, random_start)\n",
        "\n",
        "    def get_logits(self, inputs):\n",
        "        if self._normalization_applied is False:\n",
        "            inputs = self.normalize(inputs)\n",
        "\n",
        "        # Get image features from the vision model\n",
        "        vision_outputs = self.model.vision_model(inputs)\n",
        "        image_features = vision_outputs.last_hidden_state[:, 0, :]\n",
        "\n",
        "        return image_features"
      ],
      "metadata": {
        "id": "V7Bl-jYQDfN5"
      },
      "execution_count": 22,
      "outputs": []
    },
    {
      "cell_type": "code",
      "source": [
        "discriminator = model.model\n",
        "processor = model.processor\n",
        "\n",
        "attack = CLIPPGDAttack(discriminator, eps=0.3, alpha=2/255, steps=10, random_start=True)\n",
        "\n",
        "\n",
        "for image_path in tqdm(images, desc=\"Adversarial Attacks\"):\n",
        "  input_filename = os.path.basename(image_path)\n",
        "  outpath = os.path.join(\"data\", \"adversarial_images\", images[image_path][\"generator\"], f\"adversarial_{input_filename}.png\")\n",
        "  if os.path.exists(outpath):\n",
        "    continue\n",
        "  os.makedirs(os.path.join(\"data\",\"adversarial_images\", images[image_path][\"generator\"]), exist_ok=True)\n",
        "\n",
        "\n",
        "  # Load the image to torch\n",
        "  image = torchvision.io.read_image(image_path)\n",
        "  image = processor(images=image, return_tensors=\"pt\")[\"pixel_values\"]\n",
        "\n",
        "  target_label = torch.tensor([0]).to(model.device)\n",
        "\n",
        "  # Generate adversarial example\n",
        "  adversarial_image = attack(image, target_label)\n",
        "\n",
        "  # Save the adversarial image\n",
        "\n",
        "\n",
        "  # print(f\"Saving adversarial image to {outpath}\")\n",
        "  torchvision.utils.save_image(adversarial_image.squeeze(0), outpath)\n"
      ],
      "metadata": {
        "colab": {
          "base_uri": "https://localhost:8080/",
          "height": 373
        },
        "id": "ESh1cYWYGAMZ",
        "outputId": "3ee58f19-99d0-4ecd-8994-f1e4f94726ea"
      },
      "execution_count": 20,
      "outputs": [
        {
          "output_type": "stream",
          "name": "stderr",
          "text": [
            "Adversarial Attacks:   0%|          | 12/9502 [01:09<15:14:17,  5.78s/it]\n"
          ]
        },
        {
          "output_type": "error",
          "ename": "KeyboardInterrupt",
          "evalue": "",
          "traceback": [
            "\u001b[0;31m---------------------------------------------------------------------------\u001b[0m",
            "\u001b[0;31mKeyboardInterrupt\u001b[0m                         Traceback (most recent call last)",
            "\u001b[0;32m<ipython-input-20-1b90015cec12>\u001b[0m in \u001b[0;36m<cell line: 0>\u001b[0;34m()\u001b[0m\n\u001b[1;32m      7\u001b[0m \u001b[0;32mfor\u001b[0m \u001b[0mimage_path\u001b[0m \u001b[0;32min\u001b[0m \u001b[0mtqdm\u001b[0m\u001b[0;34m(\u001b[0m\u001b[0mimages\u001b[0m\u001b[0;34m,\u001b[0m \u001b[0mdesc\u001b[0m\u001b[0;34m=\u001b[0m\u001b[0;34m\"Adversarial Attacks\"\u001b[0m\u001b[0;34m)\u001b[0m\u001b[0;34m:\u001b[0m\u001b[0;34m\u001b[0m\u001b[0;34m\u001b[0m\u001b[0m\n\u001b[1;32m      8\u001b[0m   \u001b[0;31m# Load the image to torch\u001b[0m\u001b[0;34m\u001b[0m\u001b[0;34m\u001b[0m\u001b[0m\n\u001b[0;32m----> 9\u001b[0;31m   \u001b[0mimage\u001b[0m \u001b[0;34m=\u001b[0m \u001b[0mtorchvision\u001b[0m\u001b[0;34m.\u001b[0m\u001b[0mio\u001b[0m\u001b[0;34m.\u001b[0m\u001b[0mread_image\u001b[0m\u001b[0;34m(\u001b[0m\u001b[0mimage_path\u001b[0m\u001b[0;34m)\u001b[0m\u001b[0;34m\u001b[0m\u001b[0;34m\u001b[0m\u001b[0m\n\u001b[0m\u001b[1;32m     10\u001b[0m   \u001b[0mimage\u001b[0m \u001b[0;34m=\u001b[0m \u001b[0mprocessor\u001b[0m\u001b[0;34m(\u001b[0m\u001b[0mimages\u001b[0m\u001b[0;34m=\u001b[0m\u001b[0mimage\u001b[0m\u001b[0;34m,\u001b[0m \u001b[0mreturn_tensors\u001b[0m\u001b[0;34m=\u001b[0m\u001b[0;34m\"pt\"\u001b[0m\u001b[0;34m)\u001b[0m\u001b[0;34m[\u001b[0m\u001b[0;34m\"pixel_values\"\u001b[0m\u001b[0;34m]\u001b[0m\u001b[0;34m\u001b[0m\u001b[0;34m\u001b[0m\u001b[0m\n\u001b[1;32m     11\u001b[0m \u001b[0;34m\u001b[0m\u001b[0m\n",
            "\u001b[0;32m/usr/local/lib/python3.11/dist-packages/torchvision/io/image.py\u001b[0m in \u001b[0;36mread_image\u001b[0;34m(path, mode, apply_exif_orientation)\u001b[0m\n\u001b[1;32m    335\u001b[0m         \u001b[0m_log_api_usage_once\u001b[0m\u001b[0;34m(\u001b[0m\u001b[0mread_image\u001b[0m\u001b[0;34m)\u001b[0m\u001b[0;34m\u001b[0m\u001b[0;34m\u001b[0m\u001b[0m\n\u001b[1;32m    336\u001b[0m     \u001b[0mdata\u001b[0m \u001b[0;34m=\u001b[0m \u001b[0mread_file\u001b[0m\u001b[0;34m(\u001b[0m\u001b[0mpath\u001b[0m\u001b[0;34m)\u001b[0m\u001b[0;34m\u001b[0m\u001b[0;34m\u001b[0m\u001b[0m\n\u001b[0;32m--> 337\u001b[0;31m     \u001b[0;32mreturn\u001b[0m \u001b[0mdecode_image\u001b[0m\u001b[0;34m(\u001b[0m\u001b[0mdata\u001b[0m\u001b[0;34m,\u001b[0m \u001b[0mmode\u001b[0m\u001b[0;34m,\u001b[0m \u001b[0mapply_exif_orientation\u001b[0m\u001b[0;34m=\u001b[0m\u001b[0mapply_exif_orientation\u001b[0m\u001b[0;34m)\u001b[0m\u001b[0;34m\u001b[0m\u001b[0;34m\u001b[0m\u001b[0m\n\u001b[0m\u001b[1;32m    338\u001b[0m \u001b[0;34m\u001b[0m\u001b[0m\n\u001b[1;32m    339\u001b[0m \u001b[0;34m\u001b[0m\u001b[0m\n",
            "\u001b[0;32m/usr/local/lib/python3.11/dist-packages/torchvision/io/image.py\u001b[0m in \u001b[0;36mdecode_image\u001b[0;34m(input, mode, apply_exif_orientation)\u001b[0m\n\u001b[1;32m    322\u001b[0m     \u001b[0;32mif\u001b[0m \u001b[0misinstance\u001b[0m\u001b[0;34m(\u001b[0m\u001b[0mmode\u001b[0m\u001b[0;34m,\u001b[0m \u001b[0mstr\u001b[0m\u001b[0;34m)\u001b[0m\u001b[0;34m:\u001b[0m\u001b[0;34m\u001b[0m\u001b[0;34m\u001b[0m\u001b[0m\n\u001b[1;32m    323\u001b[0m         \u001b[0mmode\u001b[0m \u001b[0;34m=\u001b[0m \u001b[0mImageReadMode\u001b[0m\u001b[0;34m[\u001b[0m\u001b[0mmode\u001b[0m\u001b[0;34m.\u001b[0m\u001b[0mupper\u001b[0m\u001b[0;34m(\u001b[0m\u001b[0;34m)\u001b[0m\u001b[0;34m]\u001b[0m\u001b[0;34m\u001b[0m\u001b[0;34m\u001b[0m\u001b[0m\n\u001b[0;32m--> 324\u001b[0;31m     \u001b[0moutput\u001b[0m \u001b[0;34m=\u001b[0m \u001b[0mtorch\u001b[0m\u001b[0;34m.\u001b[0m\u001b[0mops\u001b[0m\u001b[0;34m.\u001b[0m\u001b[0mimage\u001b[0m\u001b[0;34m.\u001b[0m\u001b[0mdecode_image\u001b[0m\u001b[0;34m(\u001b[0m\u001b[0minput\u001b[0m\u001b[0;34m,\u001b[0m \u001b[0mmode\u001b[0m\u001b[0;34m.\u001b[0m\u001b[0mvalue\u001b[0m\u001b[0;34m,\u001b[0m \u001b[0mapply_exif_orientation\u001b[0m\u001b[0;34m)\u001b[0m\u001b[0;34m\u001b[0m\u001b[0;34m\u001b[0m\u001b[0m\n\u001b[0m\u001b[1;32m    325\u001b[0m     \u001b[0;32mreturn\u001b[0m \u001b[0moutput\u001b[0m\u001b[0;34m\u001b[0m\u001b[0;34m\u001b[0m\u001b[0m\n\u001b[1;32m    326\u001b[0m \u001b[0;34m\u001b[0m\u001b[0m\n",
            "\u001b[0;32m/usr/local/lib/python3.11/dist-packages/torch/_ops.py\u001b[0m in \u001b[0;36m__call__\u001b[0;34m(self, *args, **kwargs)\u001b[0m\n\u001b[1;32m   1121\u001b[0m         \u001b[0;32mif\u001b[0m \u001b[0mself\u001b[0m\u001b[0;34m.\u001b[0m\u001b[0m_has_torchbind_op_overload\u001b[0m \u001b[0;32mand\u001b[0m \u001b[0m_must_dispatch_in_python\u001b[0m\u001b[0;34m(\u001b[0m\u001b[0margs\u001b[0m\u001b[0;34m,\u001b[0m \u001b[0mkwargs\u001b[0m\u001b[0;34m)\u001b[0m\u001b[0;34m:\u001b[0m\u001b[0;34m\u001b[0m\u001b[0;34m\u001b[0m\u001b[0m\n\u001b[1;32m   1122\u001b[0m             \u001b[0;32mreturn\u001b[0m \u001b[0m_call_overload_packet_from_python\u001b[0m\u001b[0;34m(\u001b[0m\u001b[0mself\u001b[0m\u001b[0;34m,\u001b[0m \u001b[0margs\u001b[0m\u001b[0;34m,\u001b[0m \u001b[0mkwargs\u001b[0m\u001b[0;34m)\u001b[0m\u001b[0;34m\u001b[0m\u001b[0;34m\u001b[0m\u001b[0m\n\u001b[0;32m-> 1123\u001b[0;31m         \u001b[0;32mreturn\u001b[0m \u001b[0mself\u001b[0m\u001b[0;34m.\u001b[0m\u001b[0m_op\u001b[0m\u001b[0;34m(\u001b[0m\u001b[0;34m*\u001b[0m\u001b[0margs\u001b[0m\u001b[0;34m,\u001b[0m \u001b[0;34m**\u001b[0m\u001b[0;34m(\u001b[0m\u001b[0mkwargs\u001b[0m \u001b[0;32mor\u001b[0m \u001b[0;34m{\u001b[0m\u001b[0;34m}\u001b[0m\u001b[0;34m)\u001b[0m\u001b[0;34m)\u001b[0m\u001b[0;34m\u001b[0m\u001b[0;34m\u001b[0m\u001b[0m\n\u001b[0m\u001b[1;32m   1124\u001b[0m \u001b[0;34m\u001b[0m\u001b[0m\n\u001b[1;32m   1125\u001b[0m     \u001b[0;31m# TODO: use this to make a __dir__\u001b[0m\u001b[0;34m\u001b[0m\u001b[0;34m\u001b[0m\u001b[0m\n",
            "\u001b[0;31mKeyboardInterrupt\u001b[0m: "
          ]
        }
      ]
    },
    {
      "cell_type": "code",
      "execution_count": null,
      "metadata": {
        "id": "rZn1dczaY3fM"
      },
      "outputs": [],
      "source": []
    }
  ],
  "metadata": {
    "accelerator": "GPU",
    "colab": {
      "gpuType": "T4",
      "provenance": []
    },
    "kernelspec": {
      "display_name": "Python 3",
      "name": "python3"
    },
    "language_info": {
      "name": "python"
    }
  },
  "nbformat": 4,
  "nbformat_minor": 0
}