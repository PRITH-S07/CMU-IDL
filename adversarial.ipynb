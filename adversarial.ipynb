{
 "cells": [
  {
   "cell_type": "code",
   "execution_count": null,
   "id": "7607effd",
   "metadata": {},
   "outputs": [
    {
     "name": "stdout",
     "output_type": "stream",
     "text": [
      "The autoreload extension is already loaded. To reload it, use:\n",
      "  %reload_ext autoreload\n"
     ]
    }
   ],
   "source": [
    "%load_ext autoreload\n",
    "%autoreload 2\n",
    "from torchattacks import PGD\n",
    "from models.discriminator import CLIPSVMDiscriminator\n",
    "import torchvision\n",
    "from torchvision import transforms\n",
    "import torch\n",
    "from PIL import Image\n",
    "from transformers import CLIPProcessor, CLIPModel"
   ]
  },
  {
   "cell_type": "code",
   "execution_count": 3,
   "id": "8e6f19f2",
   "metadata": {},
   "outputs": [
    {
     "name": "stderr",
     "output_type": "stream",
     "text": [
      "Using a slow image processor as `use_fast` is unset and a slow processor was saved with this model. `use_fast=True` will be the default behavior in v4.52, even if the model was saved with a slow processor. This will result in minor differences in outputs. You'll still be able to use a slow processor with `use_fast=False`.\n"
     ]
    }
   ],
   "source": [
    "model = CLIPModel.from_pretrained(\"openai/clip-vit-base-patch32\")\n",
    "processor = CLIPProcessor.from_pretrained(\"openai/clip-vit-base-patch32\")\n",
    "\n",
    "attack = PGD(model, eps=8 / 255, alpha=2 / 255, steps=10, random_start=True)\n",
    "IMAGE_PATH = \"images/dalle/dalle_148.jpg\"\n",
    "\n",
    "\n",
    "# Custom forward method for the attack to handle transformers models\n",
    "def custom_forward(self, inputs, x):\n",
    "    with torch.no_grad():\n",
    "        outputs = model.vision_model(inputs.pixel_values)\n",
    "        image_features = outputs.last_hidden_state[:, 0, :]\n",
    "        image_features = image_features / image_features.norm(dim=-1, keepdim=True)\n",
    "        return image_features.squeeze().cpu().numpy()\n",
    "\n",
    "\n",
    "# Assign the custom forward method\n",
    "attack._targeted = False\n",
    "attack.forward = custom_forward.__get__(attack)"
   ]
  },
  {
   "cell_type": "code",
   "execution_count": 4,
   "id": "e462bf98",
   "metadata": {},
   "outputs": [],
   "source": [
    "transform = transforms.Compose(\n",
    "    [\n",
    "        transforms.ToTensor(),  # This scales pixels to [0, 1]\n",
    "    ]\n",
    ")"
   ]
  },
  {
   "cell_type": "code",
   "execution_count": 5,
   "id": "43127901",
   "metadata": {},
   "outputs": [],
   "source": [
    "# Load the image to torch\n",
    "image = Image.open(IMAGE_PATH)\n",
    "image = image.convert(\"RGB\")\n",
    "inputs = processor(images=image, return_tensors=\"pt\")\n",
    "inputs = inputs.to(model.device)\n",
    "label = torch.tensor([0]).unsqueeze(0).to(model.device)"
   ]
  },
  {
   "cell_type": "code",
   "execution_count": 6,
   "id": "2b0dc836",
   "metadata": {},
   "outputs": [],
   "source": [
    "# Generate adversarial example\n",
    "adversarial_image = attack(inputs, torch.tensor([0]))"
   ]
  },
  {
   "cell_type": "code",
   "execution_count": 1,
   "id": "63244448",
   "metadata": {},
   "outputs": [
    {
     "name": "stderr",
     "output_type": "stream",
     "text": [
      "/Users/prachipatil/Desktop/CMU Courses/IDL/Project/CMU-IDL/.venv/lib/python3.9/site-packages/tqdm/auto.py:21: TqdmWarning: IProgress not found. Please update jupyter and ipywidgets. See https://ipywidgets.readthedocs.io/en/stable/user_install.html\n",
      "  from .autonotebook import tqdm as notebook_tqdm\n"
     ]
    }
   ],
   "source": [
    "import lpips\n",
    "\n",
    "# Define a function to calculate LPIPS difference\n",
    "def calculate_lpips_difference(image_path1, image_path2, model='alex'):\n",
    "    # Load the LPIPS model\n",
    "    loss_fn = lpips.LPIPS(net=model)\n",
    "\n",
    "    # Load and preprocess the images\n",
    "    img1 = lpips.im2tensor(lpips.load_image(image_path1))  # Convert to tensor\n",
    "    img2 = lpips.im2tensor(lpips.load_image(image_path2))  # Convert to tensor\n",
    "\n",
    "    # Calculate LPIPS difference\n",
    "    lpips_diff = loss_fn(img1, img2)\n",
    "\n",
    "    return lpips_diff.item()"
   ]
  },
  {
   "cell_type": "code",
   "execution_count": null,
   "id": "8c9f5e21",
   "metadata": {},
   "outputs": [],
   "source": [
    "for fname in os.listdir(source_dir):"
   ]
  },
  {
   "cell_type": "code",
   "execution_count": null,
   "id": "0271edab",
   "metadata": {},
   "outputs": [],
   "source": []
  }
 ],
 "metadata": {
  "kernelspec": {
   "display_name": ".venv",
   "language": "python",
   "name": "python3"
  },
  "language_info": {
   "codemirror_mode": {
    "name": "ipython",
    "version": 3
   },
   "file_extension": ".py",
   "mimetype": "text/x-python",
   "name": "python",
   "nbconvert_exporter": "python",
   "pygments_lexer": "ipython3",
   "version": "3.9.0"
  }
 },
 "nbformat": 4,
 "nbformat_minor": 5
}
